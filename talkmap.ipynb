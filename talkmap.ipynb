{
 "cells": [
  {
   "cell_type": "markdown",
   "metadata": {},
   "source": [
    "# Leaflet cluster map of talk locations\n",
    "\n",
    "Run this from the _talks/ directory, which contains .md files of all your talks. This scrapes the location YAML field from each .md file, geolocates it with geopy/Nominatim, and uses the getorg library to output data, HTML, and Javascript for a standalone cluster map."
   ]
  },
  {
   "cell_type": "code",
   "execution_count": 8,
   "metadata": {},
   "outputs": [
    {
     "name": "stdout",
     "output_type": "stream",
     "text": [
      "Requirement already satisfied: getorg in /Users/Diheng/Library/Python/2.7/lib/python/site-packages (0.3.1)\n",
      "Requirement already satisfied: pygithub in /Users/Diheng/Library/Python/2.7/lib/python/site-packages (from getorg) (1.43.7)\n",
      "Requirement already satisfied: geopy in /Users/Diheng/Library/Python/2.7/lib/python/site-packages (from getorg) (1.20.0)\n",
      "Requirement already satisfied: retrying in /Users/Diheng/Library/Python/2.7/lib/python/site-packages (from getorg) (1.3.3)\n",
      "Requirement already satisfied: pyjwt in /Users/Diheng/Library/Python/2.7/lib/python/site-packages (from pygithub->getorg) (1.7.1)\n",
      "Requirement already satisfied: requests>=2.14.0 in /Users/Diheng/Library/Python/2.7/lib/python/site-packages (from pygithub->getorg) (2.22.0)\n",
      "Requirement already satisfied: deprecated in /Users/Diheng/Library/Python/2.7/lib/python/site-packages (from pygithub->getorg) (1.2.6)\n",
      "Requirement already satisfied: geographiclib<2,>=1.49 in /Users/Diheng/Library/Python/2.7/lib/python/site-packages (from geopy->getorg) (1.49)\n",
      "Requirement already satisfied: six>=1.7.0 in /Users/Diheng/Library/Python/2.7/lib/python/site-packages (from retrying->getorg) (1.11.0)\n",
      "Requirement already satisfied: urllib3!=1.25.0,!=1.25.1,<1.26,>=1.21.1 in /Users/Diheng/Library/Python/2.7/lib/python/site-packages (from requests>=2.14.0->pygithub->getorg) (1.25.3)\n",
      "Requirement already satisfied: certifi>=2017.4.17 in /Users/Diheng/Library/Python/2.7/lib/python/site-packages (from requests>=2.14.0->pygithub->getorg) (2019.6.16)\n",
      "Requirement already satisfied: chardet<3.1.0,>=3.0.2 in /Users/Diheng/Library/Python/2.7/lib/python/site-packages (from requests>=2.14.0->pygithub->getorg) (3.0.4)\n",
      "Requirement already satisfied: idna<2.9,>=2.5 in /Users/Diheng/Library/Python/2.7/lib/python/site-packages (from requests>=2.14.0->pygithub->getorg) (2.8)\n",
      "Requirement already satisfied: wrapt<2,>=1.10 in /Users/Diheng/Library/Python/2.7/lib/python/site-packages (from deprecated->pygithub->getorg) (1.11.2)\n",
      "Collecting ipyleaflet\n",
      "  Using cached https://files.pythonhosted.org/packages/d1/83/19368c16b89c552c0a8f01b8ae94fb11537fae894e0c419b9550a9f722e5/ipyleaflet-0.11.1-py2.py3-none-any.whl\n",
      "Collecting branca<0.4,>=0.3.1 (from ipyleaflet)\n",
      "  Using cached https://files.pythonhosted.org/packages/a1/37/675c85871b923bb35ea9a5b516a1841428bd753d7f885d5921060dfd3c41/branca-0.3.1-py2-none-any.whl\n",
      "Collecting ipywidgets<8,>=7.5.0 (from ipyleaflet)\n",
      "  Using cached https://files.pythonhosted.org/packages/86/c2/20a3514f87fc063b4853673966e85c091843de659374d6e1dd046319815a/ipywidgets-7.5.0-py2.py3-none-any.whl\n",
      "Collecting traittypes<3,>=0.2.1 (from ipyleaflet)\n",
      "  Using cached https://files.pythonhosted.org/packages/9c/d1/8d5bd662703cc1764d986f6908a608777305946fa634d34c470cd4a1e729/traittypes-0.2.1-py2.py3-none-any.whl\n",
      "Collecting xarray>=0.10 (from ipyleaflet)\n",
      "  Using cached https://files.pythonhosted.org/packages/14/e8/244fc7d31846e30f4edd4d1288f36761506f9bff0c954b76139448beebd0/xarray-0.11.3-py2.py3-none-any.whl\n",
      "Requirement already satisfied: six in /Users/Diheng/Library/Python/2.7/lib/python/site-packages (from branca<0.4,>=0.3.1->ipyleaflet) (1.11.0)\n",
      "Requirement already satisfied: jinja2 in /Users/Diheng/Library/Python/2.7/lib/python/site-packages (from branca<0.4,>=0.3.1->ipyleaflet) (2.10)\n",
      "Requirement already satisfied: ipython<6.0.0,>=4.0.0; python_version < \"3.3\" in /Users/Diheng/Library/Python/2.7/lib/python/site-packages (from ipywidgets<8,>=7.5.0->ipyleaflet) (5.8.0)\n",
      "Requirement already satisfied: traitlets>=4.3.1 in /Users/Diheng/Library/Python/2.7/lib/python/site-packages (from ipywidgets<8,>=7.5.0->ipyleaflet) (4.3.2)\n",
      "Collecting widgetsnbextension~=3.5.0 (from ipywidgets<8,>=7.5.0->ipyleaflet)\n",
      "  Using cached https://files.pythonhosted.org/packages/04/2b/32408aa2aaf5230450903b148dae888734add9e2fc190a817811546d2f93/widgetsnbextension-3.5.0-py2.py3-none-any.whl\n",
      "Requirement already satisfied: ipykernel>=4.5.1 in /Users/Diheng/Library/Python/2.7/lib/python/site-packages (from ipywidgets<8,>=7.5.0->ipyleaflet) (4.10.0)\n",
      "Requirement already satisfied: nbformat>=4.2.0 in /Users/Diheng/Library/Python/2.7/lib/python/site-packages (from ipywidgets<8,>=7.5.0->ipyleaflet) (4.4.0)\n",
      "Requirement already satisfied: pandas>=0.19.2 in /Users/Diheng/Library/Python/2.7/lib/python/site-packages (from xarray>=0.10->ipyleaflet) (0.23.4)\n",
      "Requirement already satisfied: numpy>=1.12 in /Users/Diheng/Library/Python/2.7/lib/python/site-packages (from xarray>=0.10->ipyleaflet) (1.15.4)\n",
      "Requirement already satisfied: MarkupSafe>=0.23 in /Users/Diheng/Library/Python/2.7/lib/python/site-packages (from jinja2->branca<0.4,>=0.3.1->ipyleaflet) (1.1.0)\n",
      "Requirement already satisfied: setuptools>=18.5 in /Users/Diheng/Library/Python/2.7/lib/python/site-packages (from ipython<6.0.0,>=4.0.0; python_version < \"3.3\"->ipywidgets<8,>=7.5.0->ipyleaflet) (40.6.2)\n",
      "Requirement already satisfied: simplegeneric>0.8 in /Users/Diheng/Library/Python/2.7/lib/python/site-packages (from ipython<6.0.0,>=4.0.0; python_version < \"3.3\"->ipywidgets<8,>=7.5.0->ipyleaflet) (0.8.1)\n",
      "Requirement already satisfied: backports.shutil-get-terminal-size; python_version == \"2.7\" in /Users/Diheng/Library/Python/2.7/lib/python/site-packages (from ipython<6.0.0,>=4.0.0; python_version < \"3.3\"->ipywidgets<8,>=7.5.0->ipyleaflet) (1.0.0)\n",
      "Requirement already satisfied: pygments in /Users/Diheng/Library/Python/2.7/lib/python/site-packages (from ipython<6.0.0,>=4.0.0; python_version < \"3.3\"->ipywidgets<8,>=7.5.0->ipyleaflet) (2.2.0)\n",
      "Requirement already satisfied: appnope; sys_platform == \"darwin\" in /Users/Diheng/Library/Python/2.7/lib/python/site-packages (from ipython<6.0.0,>=4.0.0; python_version < \"3.3\"->ipywidgets<8,>=7.5.0->ipyleaflet) (0.1.0)\n",
      "Requirement already satisfied: pexpect; sys_platform != \"win32\" in /Users/Diheng/Library/Python/2.7/lib/python/site-packages (from ipython<6.0.0,>=4.0.0; python_version < \"3.3\"->ipywidgets<8,>=7.5.0->ipyleaflet) (4.6.0)\n",
      "Requirement already satisfied: pickleshare in /Users/Diheng/Library/Python/2.7/lib/python/site-packages (from ipython<6.0.0,>=4.0.0; python_version < \"3.3\"->ipywidgets<8,>=7.5.0->ipyleaflet) (0.7.5)\n",
      "Requirement already satisfied: prompt-toolkit<2.0.0,>=1.0.4 in /Users/Diheng/Library/Python/2.7/lib/python/site-packages (from ipython<6.0.0,>=4.0.0; python_version < \"3.3\"->ipywidgets<8,>=7.5.0->ipyleaflet) (1.0.15)\n",
      "Requirement already satisfied: decorator in /Users/Diheng/Library/Python/2.7/lib/python/site-packages (from ipython<6.0.0,>=4.0.0; python_version < \"3.3\"->ipywidgets<8,>=7.5.0->ipyleaflet) (4.3.0)\n",
      "Requirement already satisfied: pathlib2; python_version == \"2.7\" or python_version == \"3.3\" in /Users/Diheng/Library/Python/2.7/lib/python/site-packages (from ipython<6.0.0,>=4.0.0; python_version < \"3.3\"->ipywidgets<8,>=7.5.0->ipyleaflet) (2.3.2)\n",
      "Requirement already satisfied: ipython-genutils in /Users/Diheng/Library/Python/2.7/lib/python/site-packages (from traitlets>=4.3.1->ipywidgets<8,>=7.5.0->ipyleaflet) (0.2.0)\n",
      "Requirement already satisfied: enum34; python_version == \"2.7\" in /Users/Diheng/Library/Python/2.7/lib/python/site-packages (from traitlets>=4.3.1->ipywidgets<8,>=7.5.0->ipyleaflet) (1.1.6)\n",
      "Requirement already satisfied: notebook>=4.4.1 in /Users/Diheng/Library/Python/2.7/lib/python/site-packages (from widgetsnbextension~=3.5.0->ipywidgets<8,>=7.5.0->ipyleaflet) (5.7.1)\n",
      "Requirement already satisfied: jupyter-client in /Users/Diheng/Library/Python/2.7/lib/python/site-packages (from ipykernel>=4.5.1->ipywidgets<8,>=7.5.0->ipyleaflet) (5.2.3)\n",
      "Requirement already satisfied: tornado>=4.0 in /Users/Diheng/Library/Python/2.7/lib/python/site-packages (from ipykernel>=4.5.1->ipywidgets<8,>=7.5.0->ipyleaflet) (5.1.1)\n",
      "Requirement already satisfied: jupyter-core in /Users/Diheng/Library/Python/2.7/lib/python/site-packages (from nbformat>=4.2.0->ipywidgets<8,>=7.5.0->ipyleaflet) (4.4.0)\n",
      "Requirement already satisfied: jsonschema!=2.5.0,>=2.4 in /Users/Diheng/Library/Python/2.7/lib/python/site-packages (from nbformat>=4.2.0->ipywidgets<8,>=7.5.0->ipyleaflet) (2.6.0)\n",
      "Requirement already satisfied: python-dateutil>=2.5.0 in /Users/Diheng/Library/Python/2.7/lib/python/site-packages (from pandas>=0.19.2->xarray>=0.10->ipyleaflet) (2.7.5)\n",
      "Requirement already satisfied: pytz>=2011k in /System/Library/Frameworks/Python.framework/Versions/2.7/Extras/lib/python (from pandas>=0.19.2->xarray>=0.10->ipyleaflet) (2013.7)\n",
      "Requirement already satisfied: ptyprocess>=0.5 in /Users/Diheng/Library/Python/2.7/lib/python/site-packages (from pexpect; sys_platform != \"win32\"->ipython<6.0.0,>=4.0.0; python_version < \"3.3\"->ipywidgets<8,>=7.5.0->ipyleaflet) (0.6.0)\n",
      "Requirement already satisfied: wcwidth in /Users/Diheng/Library/Python/2.7/lib/python/site-packages (from prompt-toolkit<2.0.0,>=1.0.4->ipython<6.0.0,>=4.0.0; python_version < \"3.3\"->ipywidgets<8,>=7.5.0->ipyleaflet) (0.1.7)\n",
      "Requirement already satisfied: scandir; python_version < \"3.5\" in /Users/Diheng/Library/Python/2.7/lib/python/site-packages (from pathlib2; python_version == \"2.7\" or python_version == \"3.3\"->ipython<6.0.0,>=4.0.0; python_version < \"3.3\"->ipywidgets<8,>=7.5.0->ipyleaflet) (1.9.0)\n",
      "Requirement already satisfied: terminado>=0.8.1 in /Users/Diheng/Library/Python/2.7/lib/python/site-packages (from notebook>=4.4.1->widgetsnbextension~=3.5.0->ipywidgets<8,>=7.5.0->ipyleaflet) (0.8.1)\n"
     ]
    },
    {
     "name": "stdout",
     "output_type": "stream",
     "text": [
      "Requirement already satisfied: nbconvert in /Users/Diheng/Library/Python/2.7/lib/python/site-packages (from notebook>=4.4.1->widgetsnbextension~=3.5.0->ipywidgets<8,>=7.5.0->ipyleaflet) (5.4.0)\n",
      "Requirement already satisfied: pyzmq>=17 in /Users/Diheng/Library/Python/2.7/lib/python/site-packages (from notebook>=4.4.1->widgetsnbextension~=3.5.0->ipywidgets<8,>=7.5.0->ipyleaflet) (17.1.2)\n",
      "Requirement already satisfied: prometheus-client in /Users/Diheng/Library/Python/2.7/lib/python/site-packages (from notebook>=4.4.1->widgetsnbextension~=3.5.0->ipywidgets<8,>=7.5.0->ipyleaflet) (0.4.2)\n",
      "Requirement already satisfied: ipaddress; python_version == \"2.7\" in /Users/Diheng/Library/Python/2.7/lib/python/site-packages (from notebook>=4.4.1->widgetsnbextension~=3.5.0->ipywidgets<8,>=7.5.0->ipyleaflet) (1.0.22)\n",
      "Requirement already satisfied: Send2Trash in /Users/Diheng/Library/Python/2.7/lib/python/site-packages (from notebook>=4.4.1->widgetsnbextension~=3.5.0->ipywidgets<8,>=7.5.0->ipyleaflet) (1.5.0)\n",
      "Requirement already satisfied: backports-abc>=0.4 in /Users/Diheng/Library/Python/2.7/lib/python/site-packages (from tornado>=4.0->ipykernel>=4.5.1->ipywidgets<8,>=7.5.0->ipyleaflet) (0.5)\n",
      "Requirement already satisfied: futures in /Users/Diheng/Library/Python/2.7/lib/python/site-packages (from tornado>=4.0->ipykernel>=4.5.1->ipywidgets<8,>=7.5.0->ipyleaflet) (3.2.0)\n",
      "Requirement already satisfied: singledispatch in /Users/Diheng/Library/Python/2.7/lib/python/site-packages (from tornado>=4.0->ipykernel>=4.5.1->ipywidgets<8,>=7.5.0->ipyleaflet) (3.4.0.3)\n",
      "Requirement already satisfied: functools32; python_version == \"2.7\" in /Users/Diheng/Library/Python/2.7/lib/python/site-packages (from jsonschema!=2.5.0,>=2.4->nbformat>=4.2.0->ipywidgets<8,>=7.5.0->ipyleaflet) (3.2.3.post2)\n",
      "Requirement already satisfied: mistune>=0.8.1 in /Users/Diheng/Library/Python/2.7/lib/python/site-packages (from nbconvert->notebook>=4.4.1->widgetsnbextension~=3.5.0->ipywidgets<8,>=7.5.0->ipyleaflet) (0.8.4)\n",
      "Requirement already satisfied: bleach in /Users/Diheng/Library/Python/2.7/lib/python/site-packages (from nbconvert->notebook>=4.4.1->widgetsnbextension~=3.5.0->ipywidgets<8,>=7.5.0->ipyleaflet) (3.0.2)\n",
      "Requirement already satisfied: defusedxml in /Users/Diheng/Library/Python/2.7/lib/python/site-packages (from nbconvert->notebook>=4.4.1->widgetsnbextension~=3.5.0->ipywidgets<8,>=7.5.0->ipyleaflet) (0.5.0)\n",
      "Requirement already satisfied: testpath in /Users/Diheng/Library/Python/2.7/lib/python/site-packages (from nbconvert->notebook>=4.4.1->widgetsnbextension~=3.5.0->ipywidgets<8,>=7.5.0->ipyleaflet) (0.4.2)\n",
      "Requirement already satisfied: pandocfilters>=1.4.1 in /Users/Diheng/Library/Python/2.7/lib/python/site-packages (from nbconvert->notebook>=4.4.1->widgetsnbextension~=3.5.0->ipywidgets<8,>=7.5.0->ipyleaflet) (1.4.2)\n",
      "Requirement already satisfied: entrypoints>=0.2.2 in /Users/Diheng/Library/Python/2.7/lib/python/site-packages (from nbconvert->notebook>=4.4.1->widgetsnbextension~=3.5.0->ipywidgets<8,>=7.5.0->ipyleaflet) (0.2.3)\n",
      "Requirement already satisfied: webencodings in /Users/Diheng/Library/Python/2.7/lib/python/site-packages (from bleach->nbconvert->notebook>=4.4.1->widgetsnbextension~=3.5.0->ipywidgets<8,>=7.5.0->ipyleaflet) (0.5.1)\n",
      "Requirement already satisfied: configparser>=3.5; python_version == \"2.7\" in /Users/Diheng/Library/Python/2.7/lib/python/site-packages (from entrypoints>=0.2.2->nbconvert->notebook>=4.4.1->widgetsnbextension~=3.5.0->ipywidgets<8,>=7.5.0->ipyleaflet) (3.5.0)\n",
      "Installing collected packages: branca, widgetsnbextension, ipywidgets, traittypes, xarray, ipyleaflet\n",
      "  Found existing installation: widgetsnbextension 3.4.2\n",
      "    Uninstalling widgetsnbextension-3.4.2:\n",
      "      Successfully uninstalled widgetsnbextension-3.4.2\n",
      "  Found existing installation: ipywidgets 7.4.2\n",
      "    Uninstalling ipywidgets-7.4.2:\n",
      "      Successfully uninstalled ipywidgets-7.4.2\n",
      "Successfully installed branca-0.3.1 ipyleaflet-0.11.1 ipywidgets-7.5.0 traittypes-0.2.1 widgetsnbextension-3.5.0 xarray-0.11.3\n"
     ]
    }
   ],
   "source": [
    "import sys\n",
    "!{sys.executable} -m pip install getorg --user\n",
    "!{sys.executable} -m pip install ipyleaflet --user\n",
    "import glob\n",
    "import getorg\n",
    "from geopy import Nominatim"
   ]
  },
  {
   "cell_type": "code",
   "execution_count": 12,
   "metadata": {},
   "outputs": [
    {
     "data": {
      "text/plain": [
       "['./_talks/2012-11-01-International-Education-Week.md',\n",
       " './_talks/2017-11-01-ABCT-2017.md',\n",
       " './_talks/2013-08-01-APA-2013.md']"
      ]
     },
     "execution_count": 12,
     "metadata": {},
     "output_type": "execute_result"
    }
   ],
   "source": [
    "g = glob.glob(\"./_talks/*.md\")\n",
    "g"
   ]
  },
  {
   "cell_type": "code",
   "execution_count": 13,
   "metadata": {},
   "outputs": [
    {
     "name": "stderr",
     "output_type": "stream",
     "text": [
      "/Users/Diheng/Library/Python/2.7/lib/python/site-packages/ipykernel_launcher.py:1: DeprecationWarning: Using Nominatim with the default \"geopy/1.20.0\" `user_agent` is strongly discouraged, as it violates Nominatim's ToS https://operations.osmfoundation.org/policies/nominatim/ and may possibly cause 403 and 429 HTTP errors. Please specify a custom `user_agent` with `Nominatim(user_agent=\"my-application\")` or by overriding the default `user_agent`: `geopy.geocoders.options.default_user_agent = \"my-application\"`. In geopy 2.0 this will become an exception.\n",
      "  \"\"\"Entry point for launching an IPython kernel.\n"
     ]
    }
   ],
   "source": [
    "geocoder = Nominatim()\n",
    "location_dict = {}\n",
    "location = \"\"\n",
    "permalink = \"\"\n",
    "title = \"\""
   ]
  },
  {
   "cell_type": "code",
   "execution_count": 14,
   "metadata": {},
   "outputs": [
    {
     "name": "stdout",
     "output_type": "stream",
     "text": [
      "('New York, NY', '\\n', Location((40.7127281, -74.0060152, 0.0)))\n",
      "('San Diego, CA', '\\n', Location((32.7174209, -117.1627714, 0.0)))\n",
      "('Honolulu, HI', '\\n', Location((21.304547, -157.8556764, 0.0)))\n"
     ]
    }
   ],
   "source": [
    "\n",
    "for file in g:\n",
    "    with open(file, 'r') as f:\n",
    "        lines = f.read()\n",
    "        if lines.find('location: \"') > 1:\n",
    "            loc_start = lines.find('location: \"') + 11\n",
    "            lines_trim = lines[loc_start:]\n",
    "            loc_end = lines_trim.find('\"')\n",
    "            location = lines_trim[:loc_end]\n",
    "                            \n",
    "           \n",
    "        location_dict[location] = geocoder.geocode(location)\n",
    "        print(location, \"\\n\", location_dict[location])\n"
   ]
  },
  {
   "cell_type": "code",
   "execution_count": 15,
   "metadata": {},
   "outputs": [
    {
     "data": {
      "text/plain": [
       "'Written map to ../talkmap/'"
      ]
     },
     "execution_count": 15,
     "metadata": {},
     "output_type": "execute_result"
    }
   ],
   "source": [
    "m = getorg.orgmap.create_map_obj()\n",
    "getorg.orgmap.output_html_cluster_map(location_dict, folder_name=\"../talkmap\", hashed_usernames=False)"
   ]
  },
  {
   "cell_type": "code",
   "execution_count": null,
   "metadata": {
    "collapsed": true
   },
   "outputs": [],
   "source": []
  }
 ],
 "metadata": {
  "anaconda-cloud": {},
  "kernelspec": {
   "display_name": "Python 2",
   "language": "python",
   "name": "python2"
  }
 },
 "nbformat": 4,
 "nbformat_minor": 1
}
